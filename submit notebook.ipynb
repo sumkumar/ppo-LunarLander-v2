{
 "cells": [
  {
   "cell_type": "code",
   "execution_count": 2,
   "id": "4c282e31",
   "metadata": {},
   "outputs": [],
   "source": [
    "import gym\n",
    "from huggingface_hub import notebook_login\n",
    "from huggingface_sb3 import package_to_hub\n",
    "from stable_baselines3 import PPO\n",
    "from stable_baselines3.common.vec_env import DummyVecEnv\n",
    "from stable_baselines3.common.evaluation import evaluate_policy\n",
    "from stable_baselines3.common.env_util import make_vec_env"
   ]
  },
  {
   "cell_type": "code",
   "execution_count": 3,
   "id": "1fc54335",
   "metadata": {},
   "outputs": [
    {
     "name": "stdout",
     "output_type": "stream",
     "text": [
      "Wrapping the env with a `Monitor` wrapper\n",
      "Wrapping the env in a DummyVecEnv.\n"
     ]
    }
   ],
   "source": [
    "env_id = \"LunarLander-v2\"\n",
    "eval_env = gym.make(env_id)\n",
    "model_name = \"C:/Users/sum/Documents/Worskpace/RL/DeepRL-HF-course/unit 1/ppo-LunarLander-v2-sum\"\n",
    "model = PPO.load(model_name+'.zip', eval_env)"
   ]
  },
  {
   "cell_type": "code",
   "execution_count": 4,
   "id": "5245c39c",
   "metadata": {},
   "outputs": [
    {
     "name": "stderr",
     "output_type": "stream",
     "text": [
      "'apt' is not recognized as an internal or external command,\n",
      "operable program or batch file.\n",
      "'apt' is not recognized as an internal or external command,\n",
      "operable program or batch file.\n",
      "'apt' is not recognized as an internal or external command,\n",
      "operable program or batch file.\n"
     ]
    },
    {
     "name": "stdout",
     "output_type": "stream",
     "text": [
      "Collecting pyvirtualdisplay\n",
      "  Downloading PyVirtualDisplay-3.0-py3-none-any.whl (15 kB)\n",
      "Installing collected packages: pyvirtualdisplay\n",
      "Successfully installed pyvirtualdisplay-3.0\n"
     ]
    }
   ],
   "source": [
    "!pip install ipywidgets\n",
    "!pip install imageio-ffmpeg\n",
    "!pip3 install pyvirtualdisplay"
   ]
  },
  {
   "cell_type": "code",
   "execution_count": 4,
   "id": "4d0520b2",
   "metadata": {},
   "outputs": [
    {
     "name": "stdout",
     "output_type": "stream",
     "text": [
      "\u001b[38;5;4mℹ This function will save, evaluate, generate a video of your agent,\n",
      "create a model card and push everything to the hub. It might take up to 1min.\n",
      "This is a work in progress: if you encounter a bug, please open an issue.\u001b[0m\n"
     ]
    },
    {
     "name": "stderr",
     "output_type": "stream",
     "text": [
      "C:\\Users\\sum\\anaconda3\\envs\\DeepRL-HF-course\\lib\\site-packages\\stable_baselines3\\common\\evaluation.py:67: UserWarning: Evaluation environment is not wrapped with a ``Monitor`` wrapper. This may result in reporting modified episode lengths and rewards, if other wrappers happen to modify these. Consider wrapping environment first with ``Monitor`` wrapper.\n",
      "  warnings.warn(\n"
     ]
    },
    {
     "name": "stdout",
     "output_type": "stream",
     "text": [
      "Saving video to C:\\Users\\sum\\AppData\\Local\\Temp\\tmp3vdlt6l7\\-step-0-to-step-1000.mp4\n",
      "\u001b[38;5;4mℹ Pushing repo sumkumar/ppo-LunarLander-v2-sum to the Hugging Face\n",
      "Hub\u001b[0m\n",
      "\u001b[38;5;4mℹ Your model is pushed to the Hub. You can view your model here:\n",
      "https://huggingface.co/sumkumar/ppo-LunarLander-v2-sum/tree/main/\u001b[0m\n"
     ]
    },
    {
     "data": {
      "text/plain": [
       "'https://huggingface.co/sumkumar/ppo-LunarLander-v2-sum/tree/main/'"
      ]
     },
     "execution_count": 4,
     "metadata": {},
     "output_type": "execute_result"
    }
   ],
   "source": [
    "package_to_hub(model=model, # Our trained model\n",
    "               model_name=model_name, # The name of our trained model\n",
    "               model_architecture=\"PPO\", # The model architecture we used: in our case PPO\n",
    "               env_id=env_id, # Name of the environment\n",
    "               eval_env=DummyVecEnv([lambda: gym.make(env_id)]), # Evaluation Environment\n",
    "               repo_id=\"sumkumar/ppo-LunarLander-v2-sum\", # id of the model repository from the Hugging Face Hub (repo_id = {organization}/{repo_name} for instance ThomasSimonini/ppo-LunarLander-v2\n",
    "               commit_message=\"Updated model\")"
   ]
  },
  {
   "cell_type": "code",
   "execution_count": null,
   "id": "a3a810ec",
   "metadata": {},
   "outputs": [],
   "source": []
  }
 ],
 "metadata": {
  "kernelspec": {
   "display_name": "Python 3 (ipykernel)",
   "language": "python",
   "name": "python3"
  },
  "language_info": {
   "codemirror_mode": {
    "name": "ipython",
    "version": 3
   },
   "file_extension": ".py",
   "mimetype": "text/x-python",
   "name": "python",
   "nbconvert_exporter": "python",
   "pygments_lexer": "ipython3",
   "version": "3.9.16"
  }
 },
 "nbformat": 4,
 "nbformat_minor": 5
}
